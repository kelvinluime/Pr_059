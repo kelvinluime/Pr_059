{
 "cells": [
  {
   "cell_type": "markdown",
   "metadata": {},
   "source": [
    "# COGS 108 - Project Proposal"
   ]
  },
  {
   "cell_type": "markdown",
   "metadata": {},
   "source": [
    "## Important\n",
    "\n",
    "- Make sure all group members (3-5 people) are listed in the group members section.\n",
    "- ONE, and only one, member of your group should upload this notebook to TritonED. \n",
    "- Each member of the group will receive the same grade on this assignment. \n",
    "- Keep the file name the same: submit the file 'ProjectProposal.ipynb'"
   ]
  },
  {
   "cell_type": "markdown",
   "metadata": {},
   "source": [
    "## Overview"
   ]
  },
  {
   "cell_type": "markdown",
   "metadata": {},
   "source": [
    "Read the project description and detailed instructions for this assignment in the 'ProjectOutline' document."
   ]
  },
  {
   "cell_type": "markdown",
   "metadata": {},
   "source": [
    "## Group Members: Fill in the Student IDs of each group member here\n",
    "\n",
    "Replace the lines below to list each persons full student ID. Add lines as needed for your group size, and make sure each ID is listed on a separate line. \n",
    "\n",
    "- A14709564\n",
    "- A14782354\n",
    "- A92120441\n",
    "- A14697769\n",
    "- A12297371\n",
    "- A12753074"
   ]
  },
  {
   "cell_type": "markdown",
   "metadata": {},
   "source": [
    "### Research Question\n",
    "\n",
    "What is your research question? (1-2 sentences)"
   ]
  },
  {
   "cell_type": "markdown",
   "metadata": {},
   "source": [
    "Can we predict the traffic in UCSD’s libraries using data encompassing weather, schedule, large-scale events, traffic, and shuttles in these areas? Can we then use a model of library traffic to predict when there is more available library space?"
   ]
  },
  {
   "cell_type": "markdown",
   "metadata": {},
   "source": [
    "### Hypothesis\n",
    "\n",
    "What is your main hypothesis and predictions? (2-3 sentences)"
   ]
  },
  {
   "cell_type": "markdown",
   "metadata": {},
   "source": [
    "UCSD’s library traffic is affected by the weather, timing of exams, class schedules, large-scale events, and shuttle schedules. Therefore, by using data from weather forecasts, class schedules, event calendars, and live shuttle maps, we will predict when the traffic within the library. By extension, this will also allow us to predict when the library will have available study space for those looking to study."
   ]
  },
  {
   "cell_type": "markdown",
   "metadata": {},
   "source": [
    "### Dataset(s)\n",
    "\n",
    "What data will you use to answer your question? Describe the dataset(s) in terms of number of observations, what kind of features it contains, etc. You must use at least one dataset containing at least approximately 1000 observations (if your data are smaller but you feel they are sufficient, email Prof. Voytek). You are welcome (and in fact recommended) to find multiple datasets! If you do so, describe each one, and briefly explain how you will combine them together. "
   ]
  },
  {
   "cell_type": "markdown",
   "metadata": {},
   "source": [
    "- **Dataset Name: Waitz**\n",
    "- Link to the dataset:\n",
    "https://drive.google.com/file/d/1uGPgA2lcjtHfPnOkWlTi4CUhu677tHz_/view?usp=sharing\n",
    "https://f3sszy41z4.execute-api.us-west-2.amazonaws.com/testing/get-hub-mapping\n",
    "- Number of observations: (All of last fall quarter + Half of spring quarter quarter) * ~1,000 observations per day\n",
    "\n",
    "This dataset is given by https://www.ucsdwaitz.com/ and allowed by Professor Voytek as we had to signed legal documents to get access to the full dataset which contains features of time and present signals of Geisel Library, Biomed Library, as well as other venues such as Price Center for 2017 Fall Quarter and 2018 Spring Quarter. The links to the dataset only give a sample of the data as well the full dataset is stored in a database (DynamoDB).\n",
    "\n",
    "- **Dataset Name: Weather by hour in San Diego Montgomery, CA**\n",
    "- Link to the dataset: https://drive.google.com/file/d/1AzCrS6SybPOwAXEuSdPDEoDVxWjaRhmb/view?usp=sharing\n",
    "- Number of observations: 11,000+\n",
    "\n",
    "This dataset shows the information about the temperature, dew point, and other weather conditions of San Diego Montgomery, CA. This data presents the temperature of the city per hour from the year 2017-current and we scrape all pages through last quarter to this quarter, day by day using this URL format: https://www.wunderground.com/history/airport/KMYF/2018/02/16/DailyHistory.html?req_city=San%20Diego%20Montgomery&req_state=CA&reqdb.zip=92123&reqdb.magic=4&reqdb.wmo=99999.\n",
    "\n",
    "- **Dataset Name: UCSD Shuttle**\n",
    "- Link to the dataset: https://drive.google.com/file/d/1JfoZWVrGFwW0ItEqW3eqvkuDr6AEr2qD/view?usp=sharing\n",
    "- Number of observations: 20,000+\n",
    "\n",
    "Shows the speed and capacity of each of UCSD's shuttles for the routes they take. The routes are Arriba Shuttle, Mesa Nueva Shuttle, North Campus Shuttle, SIO Shuttle, South Campus Shuttle, and West Campus Connector and we may also include arrival times for each stop as well for a given time.\n",
    "\n",
    "- **Dataset Name: Scheduling of Classes via time**\n",
    "- Link to the dataset: https://act.ucsd.edu/scheduleOfClasses/scheduleOfClassesStudent.htm\n",
    "- Number of observations: 16,000+\n",
    "\n",
    "For this dataset, we are counting the total number of UCSD students that are taking classes at a certain period of time. This dataset with measure per hour for Fall 2017, Spring 2017, and Winter 2017 and we got this data by scraping the UCSD's schedule of classes website.\n",
    "\n",
    "We plan to combine these datasets by seeing the correlation between and how these external factors of weather, class schedule and shuttle's data will influence the traffic to Geisel library and possibly other venues as well."
   ]
  },
  {
   "cell_type": "markdown",
   "metadata": {},
   "source": [
    "### Background and Prior Work\n",
    "\n",
    "Why is this question of interest, what background information led you to your hypothesis, and why is this important?\n",
    "\n",
    "Find some relevant prior work, and reference those sources. Even if you think you have a totally novel question, find the most similar prior work that you can and discuss how it relates to your project. \n",
    "\n",
    "References can be research publications, but they need not be. Blogs, github repositories, company websites, etc., are all viable references if they are relevant to your project.\n",
    "\n",
    "(2-3 paragraphs, including at least 2 references)"
   ]
  },
  {
   "cell_type": "markdown",
   "metadata": {},
   "source": [
    "The questions of interest are what trends can we see from the traffic of the library throughout time in a quarter and what external factors influence the traffic?\n",
    "\n",
    "We have hypotheses relating to external factors such as in the middle of the day and warmer temperature has a positive correlation to a higher population in Geisel. A higher number of people in Geisel when closer to midterms/final weeks (finals probably more). Observation of us UCSD students of seeing a lot of people in the library during this time. Less availability of study rooms and spaces in Geisel indicate that there will be more people in Geisel. There will be a dip in the number of students at Geisel prior to next section of the class.\n",
    "\n",
    "This question is important because it allows students to efficiently plan their study schedule. This will give them the opportunity to decide whether or not it is worth going to Geisel at a specific time. Since this saves students time from going to UCSD's Libraries, they will be able to focus on their other worries. \n",
    "\n",
    "For the Library traffic dataset, Waitz gathers our data through small hardware devices that pick up smartphone signals in the surrounding area. This gives a rough estimate on the number of students at a given location. \n",
    "\n",
    "References (include links):\n",
    "- 1) https://www.ucsdwaitz.com/\n",
    "- 2) http://ucenstudent.ucsd.edu/WebCam.aspx (for price center, how price center traffic correlates with geisel)\n",
    "- 3) https://github.com/joelseq/ucsd-rooms\n",
    "- 4) https://github.com/rantaoca/ucsd-api/\n",
    "- 5) https://www.ucsdbus.com/map\n",
    "- 6) https://library.ucsd.edu/visit/study-spaces/reserve-study-room.html (view available study rooms in Geisel)"
   ]
  },
  {
   "cell_type": "markdown",
   "metadata": {},
   "source": [
    "### Proposed Methods\n",
    "\n",
    "What methods will you use to analyze your data?\n",
    "\n",
    "- How 'clean' is the data? To the extent that it requires cleaning, how will you do so?\n",
    "- How will you analyze the data? Be as specific as you can. Briefly mention any pre-processing steps that are required for your methods (for example, checking data distributions and performing any transformations that may be required). Include a brief outline of how you will apply your chosen method(s). \n",
    "- What do you plan to report? Briefly mention any key visualizations you plan to create, and/or the kind of results you will be able to report that address your question (this could be, for example, the outcome of some statistical test(s), prediction error on a model, a model fit parameter, etc.).\n",
    "- Include a list of packages you expect to use for you project. If you plan to use packages we have not used in class, add a very brief description about them (a few words is sufficient). "
   ]
  },
  {
   "cell_type": "markdown",
   "metadata": {},
   "source": [
    "*Fill in your proposed methods information here:*\n",
    "\n",
    "*Data Cleaning (2-3 sentences)*\n",
    "\n",
    "We will clean the data by parsing and manipulating the time format, rescale the temperature and present signals to fit in a certain range, remove missing values, and possibly check for outliers.\n",
    "\n",
    "*Data Analysis (1-2 paragraphs)*\n",
    "\n",
    "To predict a certain measurement given a future time, we will use linear regression (Ordinary Least Squares). To find a correlation between datasets, we will calculate pearson correlation coefficient.\n",
    "\n",
    "*What to report (2-3 sentences)*\n",
    "\n",
    "We will report the correlation coefficient and try to rule out any other explanation to prove causation between factors. Also, we will report the trends and our prediction model of how populated the library will be at a certain time and given certain conditions.\n",
    "\n",
    "Packages we plan to use:\n",
    "- sklearn\n",
    "- scipy\n",
    "- seaborn\n",
    "- pandas\n",
    "- numpy\n",
    "- matplotlib"
   ]
  },
  {
   "cell_type": "markdown",
   "metadata": {},
   "source": [
    "### Ethics and Privacy\n",
    "\n",
    "Briefly acknowledge and address any potential issues of ethics and privacy for the proposed project. In particular:\n",
    "- Do you have permission to use this data, for this purpose?\n",
    "- Are there privacy concerns regarding your datasets that you need to deal with, and/or terms of use that you need to comply with?\n",
    "- Are there potential biases in your dataset(s), in terms of who it composes, and how it was collected, that may be problematic in terms of it allowing for equitable analysis? (For example, does your data exclude particular populations, or is it likely to reflect particular human biases in a way that could be a problem?) \n",
    "- Are there any other issues related to your topic area, data, and/or analyses that are potentially problematic in terms of data privacy and equitable impact?\n",
    "- How will you handle any issues you identify?\n",
    "\n",
    "Watiz gave us permission to access the data on how populated Geisel is. For the purpose of the final project, Waitz gave us the opportunity to work with their company as interns to use their information for analysis purposes. The documents are PROPRIETARY INFORMATION AND INVENTION ASSIGNMENT AGREEMENT (PIAA) and INTERN OFFER letter.\n",
    "\n",
    "There is bias towards the location of the hardware hubs and towards students with electronics with built-in Bluetooth capabilities. Placing hubs at certain locations of the library may not receive signals from students at other parts of the library. And since there are students without a built-in Bluetooth towards their electronic devices, this may cause an underestimate. Likewise, there may be an overestimate if there are students with multiple Bluetooth devices.\n",
    "\n",
    "For the weather data, there doesn't seem to be any biases in this data set temperature are usually fixated. \n",
    "\n",
    "There is unlikely a bias in the shuttle data because of the constant updates from the drivers and equipment inside the busses. Because of this, it constantly measures the speed of the shuttle and the drivers count the number of people at the bus at a certain period of time. \n",
    "\n",
    "And for the scheduling dataset, the information will be scraped from the UCSD course schedule website. Since this website measured the number of students taking classes at a certain period of time, the data will be fairly accurate. However, there will be a bias towards students who don't attend class. Because of this, there may be an overestimate on the number of people that probably have to leave for class during a period of time. "
   ]
  },
  {
   "cell_type": "markdown",
   "metadata": {},
   "source": [
    "### Discussion\n",
    "\n",
    "Discuss your project, looking forward to what your results might mean, how they fit it in with what is already known, and what problems you may encounter. \n",
    "\n",
    "In particular:\n",
    "- If your analyses and hypotheses are correct, what will be the contribution of this project to the topic domain? \n",
    "- Alternatively, what will you do if you methods don't work and/or your hypotheses are wrong? \n",
    "- What are the potential pitfalls and potential confounds of your data and/or methods that may cause problems, and/or influence your interpretations?\n",
    "\n",
    "(2-3 paragraphs)"
   ]
  },
  {
   "cell_type": "markdown",
   "metadata": {},
   "source": [
    "If our analyses and hypotheses are correct, then having a good prediction model for traffic at a given location will contribute towards our topic domain. To do this, this prediction model will use data on the number of people at a given location in the past, as well as certain external factors such as weather and class schedules. If our methods do not work and/or our hypotheses are wrong, then there might be many unmeasurable factors that contribute to how congested a place is. And if these methods don't work, then we'll be fairly confident that the dataset used aren't valid indicators of the traffic at UCSD Libraries. \n",
    "\n",
    "The potential pitfalls and potential confounds of your data and/or methods that may cause problems, and/or influence your interpretations is that the data could be a result of incorrect measurements by a hardware or firmware malfunction. The methods we use may be too simplistic and required a more sophisticated model for a more accurate result. Also, having no relationship between the dataset may cause us to change the type of data used to make an accurate prediction. "
   ]
  },
  {
   "cell_type": "code",
   "execution_count": null,
   "metadata": {
    "collapsed": true
   },
   "outputs": [],
   "source": []
  }
 ],
 "metadata": {
  "kernelspec": {
   "display_name": "Python 3",
   "language": "python",
   "name": "python3"
  },
  "language_info": {
   "codemirror_mode": {
    "name": "ipython",
    "version": 3
   },
   "file_extension": ".py",
   "mimetype": "text/x-python",
   "name": "python",
   "nbconvert_exporter": "python",
   "pygments_lexer": "ipython3",
   "version": "3.6.3"
  }
 },
 "nbformat": 4,
 "nbformat_minor": 2
}
